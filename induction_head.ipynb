{
 "cells": [
  {
   "cell_type": "code",
   "execution_count": 1,
   "metadata": {},
   "outputs": [
    {
     "name": "stderr",
     "output_type": "stream",
     "text": [
      "/home/ubuntu/miniconda3/envs/quant/lib/python3.11/site-packages/tqdm/auto.py:21: TqdmWarning: IProgress not found. Please update jupyter and ipywidgets. See https://ipywidgets.readthedocs.io/en/stable/user_install.html\n",
      "  from .autonotebook import tqdm as notebook_tqdm\n"
     ]
    }
   ],
   "source": [
    "from transformers import AutoModelForCausalLM,AutoTokenizer\n",
    "\n",
    "raw_model_path = \"/home/ubuntu/data/exp/proj2410/model/Qwen2.5-0.5B\"\n",
    "device = \"cuda\"\n",
    "tokenizer = AutoTokenizer.from_pretrained(raw_model_path)\n",
    "model = AutoModelForCausalLM.from_pretrained(raw_model_path,\n",
    "    ).to(device)\n",
    "\n"
   ]
  },
  {
   "cell_type": "code",
   "execution_count": 3,
   "metadata": {},
   "outputs": [
    {
     "data": {
      "text/plain": [
       "tensor(47.7500, device='cuda:0', grad_fn=<MaxBackward1>)"
      ]
     },
     "execution_count": 3,
     "metadata": {},
     "output_type": "execute_result"
    }
   ],
   "source": [
    "model.model.layers[0].self_attn.q_proj.bias.max()"
   ]
  },
  {
   "cell_type": "code",
   "execution_count": 1,
   "metadata": {},
   "outputs": [
    {
     "name": "stderr",
     "output_type": "stream",
     "text": [
      "/home/ubuntu/miniconda3/envs/quant/lib/python3.11/site-packages/tqdm/auto.py:21: TqdmWarning: IProgress not found. Please update jupyter and ipywidgets. See https://ipywidgets.readthedocs.io/en/stable/user_install.html\n",
      "  from .autonotebook import tqdm as notebook_tqdm\n",
      "Starting from v4.46, the `logits` model output will have the same type as the model (except at train time, where it will always be FP32)\n"
     ]
    }
   ],
   "source": [
    "from transformers import AutoModelForCausalLM,AutoTokenizer\n",
    "\n",
    "raw_model_path = \"/home/ubuntu/data/exp/proj2410/model/Qwen2.5-0.5B\"\n",
    "device = \"cuda\"\n",
    "tokenizer = AutoTokenizer.from_pretrained(raw_model_path)\n",
    "model = AutoModelForCausalLM.from_pretrained(raw_model_path,\n",
    "    ).to(device)\n",
    "\n",
    "inputs = tokenizer(\"According to the report, the company has a good\", return_tensors=\"pt\").to(device)\n",
    "outputs = model(**inputs)\n"
   ]
  },
  {
   "cell_type": "code",
   "execution_count": 2,
   "metadata": {},
   "outputs": [
    {
     "data": {
      "text/plain": [
       "(tensor([[11190,   311,   279,  1895,    11,   279,  2813,   702,   264,  1661]],\n",
       "        device='cuda:0'),\n",
       " torch.Size([1, 10, 151936]),\n",
       " tensor([[  311,   279,   364,   315,   279,  1372,   594,   220,  2790, 17011]],\n",
       "        device='cuda:0'))"
      ]
     },
     "execution_count": 2,
     "metadata": {},
     "output_type": "execute_result"
    }
   ],
   "source": [
    "\n",
    "\n",
    "def get_max_logits_ids(outputs):\n",
    "    max_logits, max_ids = outputs.logits.max(dim=-1)\n",
    "    return max_ids\n",
    "\n",
    "inputs.input_ids,outputs.logits.shape,get_max_logits_ids(outputs)"
   ]
  },
  {
   "cell_type": "code",
   "execution_count": 5,
   "metadata": {},
   "outputs": [
    {
     "name": "stdout",
     "output_type": "stream",
     "text": [
      "Loading quantized model from /home/ubuntu/data/exp/proj2410/quant_model/Qwen-2.5-0.5B/EfficientQAT/w2gs128\n"
     ]
    },
    {
     "name": "stderr",
     "output_type": "stream",
     "text": [
      "100%|██████████| 24/24 [00:00<00:00, 324.01it/s]\n"
     ]
    },
    {
     "name": "stdout",
     "output_type": "stream",
     "text": [
      "Loading pre-computed quantized weights...\n",
      "Loading pre-computed quantized weights Successfully\n"
     ]
    }
   ],
   "source": [
    "\n",
    "quant_model_path = \"/home/ubuntu/data/exp/proj2410/quant_model/Qwen-2.5-0.5B/EfficientQAT/w2gs128\"\n",
    "from EfficientQAT.quantize.int_linear_real import load_quantized_model,QuantLinear\n",
    "def get_model_and_tokenizer(_model_path:str) :\n",
    "    quantized = \"w\" in _model_path\n",
    "    if \"w\" in _model_path:\n",
    "        wbits =2\n",
    "        group_size = 128\n",
    "        model,tokenizer = load_quantized_model(_model_path,\n",
    "                                                    wbits=wbits,\n",
    "                                                    group_size=group_size)\n",
    "    else:\n",
    "        model = AutoModelForCausalLM.from_pretrained(_model_path)\n",
    "        tokenizer = AutoTokenizer.from_pretrained(_model_path)\n",
    "    return model,tokenizer,quantized\n",
    "quant_model,_,_ = get_model_and_tokenizer(quant_model_path)\n",
    "quant_model.to(\"cuda\")\n",
    "quant_output = quant_model(**inputs)"
   ]
  },
  {
   "cell_type": "code",
   "execution_count": 8,
   "metadata": {},
   "outputs": [
    {
     "data": {
      "text/plain": [
       "(tensor([[ 311,  279, 1895,   11,  279, 2813,  702,  264, 1661]],\n",
       "        device='cuda:0'),\n",
       " tensor([[  311,   279,   364,   315,   279,  1372,   594,   220,  2790, 17011]],\n",
       "        device='cuda:0'),\n",
       " tensor([[  279,   279,  2701,    11,   279,  1372,   702,   264,  2790, 17011]],\n",
       "        device='cuda:0'))"
      ]
     },
     "execution_count": 8,
     "metadata": {},
     "output_type": "execute_result"
    }
   ],
   "source": [
    "inputs.input_ids[:,1:],get_max_logits_ids(outputs),get_max_logits_ids(quant_output)"
   ]
  },
  {
   "cell_type": "code",
   "execution_count": 11,
   "metadata": {},
   "outputs": [
    {
     "name": "stderr",
     "output_type": "stream",
     "text": [
      "Setting `pad_token_id` to `eos_token_id`:None for open-end generation.\n"
     ]
    },
    {
     "name": "stderr",
     "output_type": "stream",
     "text": [
      "Setting `pad_token_id` to `eos_token_id`:None for open-end generation.\n"
     ]
    },
    {
     "data": {
      "text/plain": [
       "(tensor([[11190,   311,   279,  1895,    11,   279,  2813,   702,   264,  1661,\n",
       "          17011,   323,   264,  1661,  2168,    11,   323,   279,  2813,   594,\n",
       "          17011,   323,  2168,   525,   279, 16266,   369,   279,  2813,   594]],\n",
       "        device='cuda:0'),\n",
       " tensor([[11190,   311,   279,  1895,    11,   279,  2813,   702,   264,  1661,\n",
       "          17011,   304,   279,  4958,   323,   702,   264,  1661, 17011,   304,\n",
       "            279,  3081,    13,   576,  2813,   702,   264,  1661, 17011,   304]],\n",
       "        device='cuda:0'))"
      ]
     },
     "execution_count": 11,
     "metadata": {},
     "output_type": "execute_result"
    }
   ],
   "source": [
    "model.generate(**inputs, max_new_tokens=20),quant_model.generate(**inputs, max_new_tokens=20)"
   ]
  },
  {
   "cell_type": "code",
   "execution_count": null,
   "metadata": {},
   "outputs": [],
   "source": [
    "import torch\n",
    "import torch.nn as nn\n",
    "\n",
    "linear = nn.Linear(10, 1)\n",
    "print(f{linear.weight.shape})"
   ]
  }
 ],
 "metadata": {
  "kernelspec": {
   "display_name": "quant",
   "language": "python",
   "name": "python3"
  },
  "language_info": {
   "codemirror_mode": {
    "name": "ipython",
    "version": 3
   },
   "file_extension": ".py",
   "mimetype": "text/x-python",
   "name": "python",
   "nbconvert_exporter": "python",
   "pygments_lexer": "ipython3",
   "version": "3.11.9"
  }
 },
 "nbformat": 4,
 "nbformat_minor": 2
}
