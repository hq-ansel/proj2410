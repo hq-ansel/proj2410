{
 "cells": [
  {
   "cell_type": "markdown",
   "metadata": {},
   "source": [
    "for fp16 raw \n",
    "[2024-10-13 16:41:53 root](main_block_ap.py 39): INFO wikitext2 perplexity: 5.47\n",
    "[2024-10-13 16:41:53 root](main_block_ap.py 39): INFO c4 perplexity: 6.97\n",
    "\n",
    "for 4bit EfficientQAT \n",
    "[2024-10-09 20:37:21 root](main_block_ap.py 39): INFO wikitext2 perplexity: 5.59\n",
    "[2024-10-09 20:37:21 root](main_block_ap.py 39): INFO c4 perplexity: 7.08\n",
    "for 4bit EfficientQAT+crossBlock \n",
    "[2024-10-10 04:22:32 root](main_block_ap.py 39): INFO wikitext2 perplexity: 5.65\n",
    "[2024-10-10 04:22:32 root](main_block_ap.py 39): INFO c4 perplexity: 7.12\n",
    "+epoch: 2 to 5\n",
    "[2024-10-11 10:11:24 root](main_block_ap.py 39): INFO wikitext2 perplexity: 5.64\n",
    "[2024-10-11 10:11:24 root](main_block_ap.py 39): INFO c4 perplexity: 7.11\n",
    "+mse max abs loss\n",
    "[2024-10-14 17:19:46 root](main_block_ap.py 49): INFO wikitext2 perplexity: 5.98\n",
    "[2024-10-14 17:19:46 root](main_block_ap.py 49): INFO c4 perplexity: 7.17\n",
    "\n",
    "\n",
    "\n",
    "2bit learnin rate : 1e-5\n",
    "EfficientQAT + crossBlock +Magnitude-aware Differentiation learning rate : 1e-5\n",
    "[2024-10-13 13:56:32 root](main_block_ap.py 39): INFO wikitext2 perplexity: 10.36\n",
    "[2024-10-13 13:56:32 root](main_block_ap.py 39): INFO c4 perplexity: 11.82\n",
    "\n",
    "\n",
    "EfficientQAT + crossBlock learning rate : 1e-5\n",
    "[2024-10-12 07:42:20 root](main_block_ap.py 39): INFO wikitext2 perplexity: 8.60\n",
    "[2024-10-12 07:42:20 root](main_block_ap.py 39): INFO c4 perplexity: 10.42\n",
    "add aggressive learning rate 1e-4\n",
    "[2024-10-12 22:13:54 root](main_block_ap.py 39): INFO wikitext2 perplexity: 13.25\n",
    "[2024-10-12 22:13:54 root](main_block_ap.py 39): INFO c4 perplexity: 12.70\n",
    "\n",
    "\n",
    "EfficientQAT\n",
    "\n",
    "wikitext2:8.45048999786377\n"
   ]
  },
  {
   "cell_type": "code",
   "execution_count": 1,
   "metadata": {},
   "outputs": [
    {
     "name": "stderr",
     "output_type": "stream",
     "text": [
      "/home/ubuntu/miniconda3/envs/quant/lib/python3.11/site-packages/tqdm/auto.py:21: TqdmWarning: IProgress not found. Please update jupyter and ipywidgets. See https://ipywidgets.readthedocs.io/en/stable/user_install.html\n",
      "  from .autonotebook import tqdm as notebook_tqdm\n"
     ]
    },
    {
     "name": "stdout",
     "output_type": "stream",
     "text": [
      "get_wikitext2\n"
     ]
    }
   ],
   "source": [
    "from datasets import load_dataset\n",
    "# 指定缓存目录\n",
    "cache_dir = '/home/ubuntu/data/exp/dataset'\n",
    "\n",
    "print(\"get_wikitext2\")\n",
    "traindata = load_dataset('wikitext', 'wikitext-2-raw-v1', split='train',\n",
    "         cache_dir=cache_dir)\n",
    "testdata = load_dataset('wikitext', 'wikitext-2-raw-v1', split='test',\n",
    "         cache_dir=cache_dir)\n",
    "\n",
    "traindata = load_dataset(\n",
    "    'allenai/c4', \n",
    "    data_files={'train': 'en/c4-train.00000-of-01024.json.gz'}, \n",
    "    split='train', \n",
    "    cache_dir=cache_dir\n",
    ")\n",
    "valdata = load_dataset(\n",
    "    'allenai/c4', \n",
    "    data_files={'validation': 'en/c4-validation.00000-of-00008.json.gz'}, \n",
    "    split='validation', \n",
    "    cache_dir=cache_dir\n",
    ")\n",
    "\n",
    "traindata = load_dataset(\"togethercomputer/RedPajama-Data-1T-Sample\", split='train',\n",
    "         cache_dir=cache_dir)\n"
   ]
  },
  {
   "cell_type": "markdown",
   "metadata": {},
   "source": [
    "aqlm quant_model/aqlm/n1024cb1ing8\n",
    "\n",
    "hf (pretrained=/home/ubuntu/data/exp/model/llama-7b,dtype=float16,parallelize=True), gen_kwargs: (None), limit: None, num_fewshot: None, batch_size: 64\n",
    "|    Tasks    |Version|Filter|n-shot| Metric |Value |   |Stderr|\n",
    "|-------------|-------|------|-----:|--------|-----:|---|-----:|\n",
    "|arc_challenge|Yaml   |none  |     0|acc     |0.3763|±  |0.0142|\n",
    "|             |       |none  |     0|acc_norm|0.3840|±  |0.0142|\n",
    "|arc_easy     |Yaml   |none  |     0|acc     |0.7134|±  |0.0093|\n",
    "|             |       |none  |     0|acc_norm|0.6688|±  |0.0097|\n",
    "|hellaswag    |Yaml   |none  |     0|acc     |0.5123|±  |0.0050|\n",
    "|             |       |none  |     0|acc_norm|0.6918|±  |0.0046|\n",
    "|piqa         |Yaml   |none  |     0|acc     |0.7486|±  |0.0101|\n",
    "|             |       |none  |     0|acc_norm|0.7568|±  |0.0100|\n",
    "|winogrande   |Yaml   |none  |     0|acc     |0.6535|±  |0.0134|"
   ]
  },
  {
   "cell_type": "markdown",
   "metadata": {},
   "source": [
    "efficientQAT 2bitg128\n",
    "\n",
    "\n",
    "|    Tasks    |Version|Filter|n-shot| Metric |Value |   |Stderr|\n",
    "|-------------|------:|------|-----:|--------|-----:|---|-----:|\n",
    "|winogrande   |      1|none  |     0|acc     |0.6401|±  |0.0135|\n",
    "|hellaswag    |      1|none  |     0|acc     |0.4852|±  |0.0050|\n",
    "|             |       |none  |     0|acc_norm|0.6430|±  |0.0048|\n",
    "|arc_challenge|      1|none  |     0|acc     |0.3404|±  |0.0138|\n",
    "|             |       |none  |     0|acc_norm|0.3567|±  |0.0140|\n",
    "|arc_easy     |      1|none  |     0|acc     |0.7016|±  |0.0094|\n",
    "|             |       |none  |     0|acc_norm|0.6431|±  |0.0098|\n",
    "|piqa         |      1|none  |     0|acc     |0.7334|±  |0.0103|\n",
    "|             |       |none  |     0|acc_norm|0.7416|±  |0.0102|\n"
   ]
  },
  {
   "cell_type": "code",
   "execution_count": 7,
   "metadata": {},
   "outputs": [
    {
     "name": "stdout",
     "output_type": "stream",
     "text": [
      "Starting timing comparison...\n",
      "\n",
      "foreach=False, fuse=False - Final Loss: 0.0218, Time: 1.0977 seconds\n",
      "foreach=True, fuse=False - Final Loss: 0.0137, Time: 1.0349 seconds\n",
      "foreach=False, fuse=True - Final Loss: 0.0245, Time: 0.8808 seconds\n"
     ]
    }
   ],
   "source": [
    "import torch\n",
    "import torch.nn as nn\n",
    "import torch.optim as optim\n",
    "import time\n",
    "\n",
    "# 简单的线性回归模型\n",
    "class LinearRegressionModel(nn.Module):\n",
    "    def __init__(self):\n",
    "        super(LinearRegressionModel, self).__init__()\n",
    "        self.linear = nn.Sequential(\n",
    "            nn.Linear(1, 4096),\n",
    "            nn.ReLU(),\n",
    "            nn.Linear(4096, 4096),\n",
    "            nn.ReLU(),\n",
    "            nn.Linear(4096, 1)\n",
    "        )\n",
    "\n",
    "    def forward(self, x):\n",
    "        return self.linear(x)\n",
    "\n",
    "# 生成一些虚拟数据\n",
    "torch.manual_seed(42)\n",
    "x_train = torch.randn(1000, 1)\n",
    "y_train = 3 * x_train + 2 + 0.1 * torch.randn(1000, 1)\n",
    "dev = torch.device(\"cuda:3\" if torch.cuda.is_available() else \"cpu\")\n",
    "# 定义训练函数\n",
    "def train_model(optimizer, model, epochs=100):\n",
    "    criterion = nn.MSELoss()\n",
    "    for epoch in range(epochs):\n",
    "        model.train()\n",
    "\n",
    "        # 清零梯度\n",
    "        optimizer.zero_grad()\n",
    "\n",
    "        # 前向传播\n",
    "        outputs = model(x_train.to(dev))\n",
    "        loss = criterion(outputs.to(dev), y_train.to(dev))\n",
    "\n",
    "        # 反向传播和优化\n",
    "        loss.backward()\n",
    "        optimizer.step()\n",
    "    return loss.item()\n",
    "\n",
    "# 训练和计时函数\n",
    "def measure_time(foreach, fuse):\n",
    "    # 定义模型和优化器\n",
    "    model = LinearRegressionModel()\n",
    "    model.to(dev)\n",
    "    optimizer = optim.AdamW(model.parameters(), lr=1e-2, foreach=foreach, fused=fuse)\n",
    "    \n",
    "    # 计时\n",
    "    start_time = time.time()\n",
    "    final_loss = train_model(optimizer, model)\n",
    "    end_time = time.time()\n",
    "\n",
    "    elapsed_time = end_time - start_time\n",
    "    print(f\"foreach={foreach}, fuse={fuse} - Final Loss: {final_loss:.4f}, Time: {elapsed_time:.4f} seconds\")\n",
    "\n",
    "# 运行对比实验\n",
    "print(\"Starting timing comparison...\\n\")\n",
    "measure_time(foreach=False, fuse=False)  # 不使用优化\n",
    "measure_time(foreach=True, fuse=False)   # 使用 foreach\n",
    "measure_time(foreach=False, fuse=True)   # 使用 fuse\n"
   ]
  }
 ],
 "metadata": {
  "kernelspec": {
   "display_name": "quant",
   "language": "python",
   "name": "python3"
  },
  "language_info": {
   "codemirror_mode": {
    "name": "ipython",
    "version": 3
   },
   "file_extension": ".py",
   "mimetype": "text/x-python",
   "name": "python",
   "nbconvert_exporter": "python",
   "pygments_lexer": "ipython3",
   "version": "3.11.10"
  }
 },
 "nbformat": 4,
 "nbformat_minor": 2
}
